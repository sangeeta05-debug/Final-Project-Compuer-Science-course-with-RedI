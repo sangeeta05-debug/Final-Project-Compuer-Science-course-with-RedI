{
  "cells": [
    {
      "cell_type": "code",
      "execution_count": null,
      "metadata": {
        "id": "GW6QBY-M36eX"
      },
      "outputs": [],
      "source": [
        "#My first Game Project on Python => Stone, Paper, Scissors\n",
        "\n",
        "# First import the random generator\n",
        "import random\n",
        "\n",
        "#FIrst create the list of play options\n",
        "possible_choices = [\"rock\", \"paper\", \"scissors\"]\n",
        "\n",
        "while True:\n",
        "    user_input = input(\"\\nEnter your choice (rock, paper, scissors): \").lower()\n",
        "    computer_choice = random.choice(possible_choices)\n",
        "    print(f\"\\nYou chose {user_input}, computer chose {computer_choice}.\\n\")\n",
        "\n",
        "    if user_input == computer_choice:\n",
        "        print(f\"Both players selected {user_input}. It's a tie!\")\n",
        "\n",
        "    elif user_input == \"rock\":\n",
        "        if computer_choice == \"scissors\":\n",
        "            print(\"Rock smashes scissors! You win!\")\n",
        "        else:\n",
        "            print(\"Paper covers rock! You lose.\")\n",
        "\n",
        "    elif user_input == \"paper\":\n",
        "        if computer_choice == \"rock\":\n",
        "            print(\"Paper covers rock! You win!\")\n",
        "        else:\n",
        "            print(\"Scissors cuts paper! You lose.\")\n",
        "\n",
        "    elif user_input == \"scissors\":\n",
        "        if computer_choice == \"paper\":\n",
        "            print(\"Scissors cuts paper! You win!\")\n",
        "        else:\n",
        "            print(\"Rock smashes scissors! You lose.\")\n",
        "\n",
        "    play_again = input(\"\\nPlay again? (y/n): \").lower()\n",
        "    if play_again != \"y\":\n",
        "        break\n"
      ]
    },
    {
      "cell_type": "markdown",
      "source": [],
      "metadata": {
        "id": "rh_7Gew0ol9N"
      }
    },
    {
      "cell_type": "code",
      "source": [],
      "metadata": {
        "id": "NGc818Zxomky"
      },
      "execution_count": null,
      "outputs": []
    },
    {
      "cell_type": "code",
      "execution_count": null,
      "metadata": {
        "colab": {
          "base_uri": "https://localhost:8080/"
        },
        "id": "iTG9nMy7FZXL",
        "outputId": "04d4561a-aaf2-4206-f51d-8256e3f6304f"
      },
      "outputs": [
        {
          "name": "stdout",
          "output_type": "stream",
          "text": [
            "\n",
            " 1. Add New Contact \n",
            " 2. Search Contact \n",
            " 3. Display Contact \n",
            " 4. Edit Contact \n",
            " 5. Delete Contact \n",
            " 6. Exit\n",
            "\n",
            " Enter your Choice 1\n",
            "\n",
            " Enter the Name Sandy\n",
            " Enter the Mobile Number 766786875656\n",
            "\n",
            " Contact sandy saved successfully\n",
            "\n",
            " 1. Add New Contact \n",
            " 2. Search Contact \n",
            " 3. Display Contact \n",
            " 4. Edit Contact \n",
            " 5. Delete Contact \n",
            " 6. Exit\n",
            "\n",
            " Enter your Choice 6\n"
          ]
        }
      ],
      "source": [
        "#My Address Book Project\n",
        "\n",
        "contact = {}\n",
        "\n",
        "def display_contact():\n",
        "  print(\"--------------------------------------------\")\n",
        "  print(\"Name\\t\\t\\tNumber\")\n",
        "  print(\"--------------------------------------------\")\n",
        "  for key in contact:\n",
        "    print(\"{}\\t\\t\\t{}\".format(key, contact.get(key)))\n",
        "    print(\"--------------------------------------------\")\n",
        " \n",
        "while True:\n",
        "    print(\"\\n 1. Add New Contact \\n 2. Search Contact \\n 3. Display Contact \\n 4. Edit Contact \\n 5. Delete Contact \\n 6. Exit\")\n",
        "    choice = int(input(\"\\n Enter your Choice \"))\n",
        "  \n",
        "    if choice == 1:\n",
        "      name = input(\"\\n Enter the Name \").lower()    \n",
        "      phone = input(\" Enter the Mobile Number \")    \n",
        "      contact[name] = phone\n",
        "      print(\"\\n Contact\", name, \"saved successfully\")\n",
        "\n",
        "    elif choice == 2:\n",
        "      search_name = input(\"\\n Enter the contact Name to search \").lower()   \n",
        "      if search_name in contact:\n",
        "        print(\"\\n \",search_name, \"'s contact number is \", contact[search_name])\n",
        "      else:\n",
        "        print(\"\\n Name not found in the conact book\")\n",
        "\n",
        "    elif choice ==3:\n",
        "      if not contact:\n",
        "        print(\"\\n Contact book is empty\")\n",
        "      else:\n",
        "        display_contact()\n",
        "    \n",
        "    elif choice == 4:\n",
        "      edit_name = input(\"\\n Enter the contact Name to Edit \").lower()   \n",
        "      if edit_name in contact:\n",
        "        phone = input(\" Enter the Mobile Number\")\n",
        "        contact[edit_name] = phone\n",
        "        print(\"\\n Contact Updated\")\n",
        "        display_contact()\n",
        "      else:\n",
        "        print(\"\\n Name not found in the conact book\")\n",
        "\n",
        "    elif choice == 5:\n",
        "      del_name = input(\"\\n Enter the contact Name to Delete \").lower()   \n",
        "      if del_name in contact:\n",
        "        confirm = input(\"\\n Do you want to delete this contact y/n? \").lower() \n",
        "        if confirm == 'y' or confirm == 'Y':\n",
        "          contact.pop(del_name)\n",
        "        display_contact()\n",
        "      else:\n",
        "        print(\"\\n Name not found in the conact book\")        \n",
        "    \n",
        "    else:\n",
        "      break"
      ]
    }
  ],
  "metadata": {
    "colab": {
      "provenance": []
    },
    "kernelspec": {
      "display_name": "Python 3",
      "name": "python3"
    }
  },
  "nbformat": 4,
  "nbformat_minor": 0
}